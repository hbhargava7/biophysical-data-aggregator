{
 "cells": [
  {
   "cell_type": "code",
   "execution_count": 14,
   "metadata": {},
   "outputs": [],
   "source": [
    "import PubMedSearch as pms"
   ]
  },
  {
   "cell_type": "code",
   "execution_count": 15,
   "metadata": {},
   "outputs": [
    {
     "name": "stdout",
     "output_type": "stream",
     "text": [
      "Implementing CNS Search.\n",
      "PubMed Search Complete!\n",
      "PubMed Search Complete!\n",
      "PubMed Search Complete!\n",
      "1\n",
      "2\n",
      "3\n",
      "4\n",
      "5\n",
      "6\n",
      "7\n",
      "8\n",
      "9\n",
      "10\n",
      "11\n",
      "12\n",
      "13\n",
      "CrossRef Search Complete!\n",
      "Getting Altmetrics Score\n",
      "1\n",
      "2\n",
      "3\n",
      "4\n",
      "5\n",
      "6\n",
      "7\n",
      "8\n",
      "9\n",
      "10\n",
      "11\n",
      "12\n",
      "13\n",
      "Altmetrics Search Complete!\n",
      "         Year of Pub                                              Title  \\\n",
      "30046105        2018  Cyclin-dependent kinase 12 is a drug target fo...   \n",
      "29899453        2018  A Cdk9-PP1 switch regulates the elongation-ter...   \n",
      "29849146        2018  Phase-separation mechanism for C-terminal hype...   \n",
      "30454645        2018  Targeting CDK9 Reactivates Epigenetically Sile...   \n",
      "30146162        2018  Small Molecules Co-targeting CKIα and the Tran...   \n",
      "26659056        2015  RNA polymerase II-associated factor 1 regulate...   \n",
      "23746844        2013  HIF1A employs CDK8-mediator to stimulate RNAPI...   \n",
      "22053051        2011  RNAP II CTD phosphorylated on threonine-4 is r...   \n",
      "20535204        2010  Crystal structure of HIV-1 Tat complexed with ...   \n",
      "19914168        2009  Nuclear CDKs drive Smad transcriptional activa...   \n",
      "11713533        2001  7SK small nuclear RNA binds to and inhibits th...   \n",
      "11713532        2001  The 7SK small nuclear RNA inhibits the CDK9/cy...   \n",
      "9491887         1998  A novel CDK9-associated C-type cyclin interact...   \n",
      "\n",
      "          Lead Author  Senior Author                   Journal  \\\n",
      "30046105     Wyllie S     Gilbert IH                    Nature   \n",
      "29899453      Parua S      Fisher IH                    Nature   \n",
      "29849146         Lu S        Zhou IH                    Nature   \n",
      "30454645      Zhang H        Issa JJ                      Cell   \n",
      "30146162     Minzel H  Ben-Neriah JJ                      Cell   \n",
      "26659056         Yu M      Roeder RG  Science (New York, N.Y.)   \n",
      "23746844  Galbraith H    Espinosa JJ                      Cell   \n",
      "22053051       Hsin M      Manley RG  Science (New York, N.Y.)   \n",
      "20535204    Tahirov S       Price IH                    Nature   \n",
      "19914168    Alarcón H    Massagué JJ                      Cell   \n",
      "11713533     Nguyen S    Bensaude IH                    Nature   \n",
      "11713532       Yang S        Zhou IH                    Nature   \n",
      "9491887         Wei H       Jones JJ                      Cell   \n",
      "\n",
      "                                    DOI  \\\n",
      "30046105      10.1038/s41586-018-0356-z   \n",
      "29899453      10.1038/s41586-018-0214-z   \n",
      "29849146      10.1038/s41586-018-0174-3   \n",
      "30454645     10.1016/j.cell.2018.09.051   \n",
      "30146162     10.1016/j.cell.2018.07.045   \n",
      "26659056        10.1126/science.aad2338   \n",
      "23746844     10.1016/j.cell.2013.04.048   \n",
      "22053051        10.1126/science.1206034   \n",
      "20535204            10.1038/nature09131   \n",
      "19914168     10.1016/j.cell.2009.09.035   \n",
      "11713533               10.1038/35104581   \n",
      "11713532               10.1038/35104575   \n",
      "9491887   10.1016/s0092-8674(00)80939-3   \n",
      "\n",
      "                                               Web Link  Citation Count  \\\n",
      "30046105      https://doi.org/10.1038/s41586-018-0356-z              17   \n",
      "29899453      https://doi.org/10.1038/s41586-018-0214-z               8   \n",
      "29849146      https://doi.org/10.1038/s41586-018-0174-3              72   \n",
      "30454645     https://doi.org/10.1016/j.cell.2018.09.051              20   \n",
      "30146162     https://doi.org/10.1016/j.cell.2018.07.045              14   \n",
      "26659056        https://doi.org/10.1126/science.aad2338              72   \n",
      "23746844     https://doi.org/10.1016/j.cell.2013.04.048             136   \n",
      "22053051        https://doi.org/10.1126/science.1206034             100   \n",
      "20535204            https://doi.org/10.1038/nature09131             178   \n",
      "19914168     https://doi.org/10.1016/j.cell.2009.09.035             404   \n",
      "11713533               https://doi.org/10.1038/35104581             378   \n",
      "11713532               https://doi.org/10.1038/35104575             375   \n",
      "9491887   https://doi.org/10.1016/s0092-8674(00)80939-3             692   \n",
      "\n",
      "          Altmetric Score  \n",
      "30046105          107.850  \n",
      "29899453           12.800  \n",
      "29849146           57.050  \n",
      "30454645          113.850  \n",
      "30146162          175.030  \n",
      "26659056           81.108  \n",
      "23746844           13.610  \n",
      "22053051            6.050  \n",
      "20535204            3.000  \n",
      "19914168           10.000  \n",
      "11713533            7.000  \n",
      "11713532            9.000  \n",
      "9491887            10.000  \n",
      "(13, 9)\n"
     ]
    }
   ],
   "source": [
    "result = pms.searchCoordinator(\"CDK9\")"
   ]
  },
  {
   "cell_type": "code",
   "execution_count": 21,
   "metadata": {},
   "outputs": [
    {
     "data": {
      "text/plain": [
       "'Zhou IH'"
      ]
     },
     "execution_count": 21,
     "metadata": {},
     "output_type": "execute_result"
    }
   ],
   "source": [
    "result[\"Senior Author\"].mode()[0]"
   ]
  },
  {
   "cell_type": "code",
   "execution_count": 1,
   "metadata": {},
   "outputs": [],
   "source": [
    "import PDB as pdb"
   ]
  },
  {
   "cell_type": "code",
   "execution_count": 27,
   "metadata": {},
   "outputs": [
    {
     "name": "stdout",
     "output_type": "stream",
     "text": [
      "<class 'str'>\n",
      "['5JW9', '2E5N']\n"
     ]
    },
    {
     "data": {
      "text/html": [
       "<div>\n",
       "<style scoped>\n",
       "    .dataframe tbody tr th:only-of-type {\n",
       "        vertical-align: middle;\n",
       "    }\n",
       "\n",
       "    .dataframe tbody tr th {\n",
       "        vertical-align: top;\n",
       "    }\n",
       "\n",
       "    .dataframe thead th {\n",
       "        text-align: right;\n",
       "    }\n",
       "</style>\n",
       "<table border=\"1\" class=\"dataframe\">\n",
       "  <thead>\n",
       "    <tr style=\"text-align: right;\">\n",
       "      <th></th>\n",
       "      <th>PDB ID</th>\n",
       "      <th>Structure ID</th>\n",
       "      <th>Resolution</th>\n",
       "      <th>Date of Deposit</th>\n",
       "      <th>Method Used</th>\n",
       "      <th>DOI</th>\n",
       "      <th>Web Link</th>\n",
       "      <th>Author</th>\n",
       "    </tr>\n",
       "  </thead>\n",
       "  <tbody>\n",
       "    <tr>\n",
       "      <td>0</td>\n",
       "      <td>5JW9</td>\n",
       "      <td>The Crystal Structure of ELL2 Oclludin Domain ...</td>\n",
       "      <td>2.0</td>\n",
       "      <td>2016-05-11</td>\n",
       "      <td>X-RAY DIFFRACTION</td>\n",
       "      <td>10.2210/pdb5jw9/pdb</td>\n",
       "      <td>https://www.rcsb.org/structure/5JW9</td>\n",
       "      <td>Qi</td>\n",
       "    </tr>\n",
       "    <tr>\n",
       "      <td>1</td>\n",
       "      <td>2E5N</td>\n",
       "      <td>Solution structure of the ELL_N2 domain of tar...</td>\n",
       "      <td>100</td>\n",
       "      <td>2006-12-22</td>\n",
       "      <td>SOLUTION NMR</td>\n",
       "      <td>10.2210/pdb2e5n/pdb</td>\n",
       "      <td>https://www.rcsb.org/structure/2E5N</td>\n",
       "      <td>Dang</td>\n",
       "    </tr>\n",
       "  </tbody>\n",
       "</table>\n",
       "</div>"
      ],
      "text/plain": [
       "  PDB ID                                       Structure ID Resolution  \\\n",
       "0   5JW9  The Crystal Structure of ELL2 Oclludin Domain ...        2.0   \n",
       "1   2E5N  Solution structure of the ELL_N2 domain of tar...        100   \n",
       "\n",
       "  Date of Deposit        Method Used                  DOI  \\\n",
       "0      2016-05-11  X-RAY DIFFRACTION  10.2210/pdb5jw9/pdb   \n",
       "1      2006-12-22       SOLUTION NMR  10.2210/pdb2e5n/pdb   \n",
       "\n",
       "                              Web Link Author  \n",
       "0  https://www.rcsb.org/structure/5JW9     Qi  \n",
       "1  https://www.rcsb.org/structure/2E5N   Dang  "
      ]
     },
     "execution_count": 27,
     "metadata": {},
     "output_type": "execute_result"
    }
   ],
   "source": [
    "df = pdb.search(\"ELL2\")\n",
    "df.replace(\"\",\"100\")\n"
   ]
  },
  {
   "cell_type": "code",
   "execution_count": 13,
   "metadata": {},
   "outputs": [
    {
     "data": {
      "text/plain": [
       "'2.0'"
      ]
     },
     "execution_count": 13,
     "metadata": {},
     "output_type": "execute_result"
    }
   ],
   "source": [
    "df.loc[df['Resolution'].astype(float).idxmin()][\"Resolution\"]"
   ]
  },
  {
   "cell_type": "code",
   "execution_count": 7,
   "metadata": {},
   "outputs": [
    {
     "data": {
      "text/plain": [
       "0     3.0\n",
       "1     5.9\n",
       "2     3.5\n",
       "3     2.2\n",
       "4    2.94\n",
       "5     2.9\n",
       "6     2.0\n",
       "Name: Resolution, dtype: object"
      ]
     },
     "execution_count": 7,
     "metadata": {},
     "output_type": "execute_result"
    }
   ],
   "source": [
    "df['Resolution']"
   ]
  },
  {
   "cell_type": "code",
   "execution_count": null,
   "metadata": {},
   "outputs": [],
   "source": []
  }
 ],
 "metadata": {
  "kernelspec": {
   "display_name": "Python 3",
   "language": "python",
   "name": "python3"
  },
  "language_info": {
   "codemirror_mode": {
    "name": "ipython",
    "version": 3
   },
   "file_extension": ".py",
   "mimetype": "text/x-python",
   "name": "python",
   "nbconvert_exporter": "python",
   "pygments_lexer": "ipython3",
   "version": "3.7.4"
  }
 },
 "nbformat": 4,
 "nbformat_minor": 2
}
